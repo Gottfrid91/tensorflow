{
 "cells": [
  {
   "cell_type": "code",
   "execution_count": 1,
   "metadata": {},
   "outputs": [
    {
     "name": "stdout",
     "output_type": "stream",
     "text": [
      "Populating the interactive namespace from numpy and matplotlib\n"
     ]
    }
   ],
   "source": [
    "import tensorflow as tf\n",
    "import meta\n",
    "%pylab inline\n",
    "from matplotlib.patches import Rectangle\n",
    "import numpy as np\n",
    "from PIL import *\n",
    "from matplotlib import pyplot as plt\n",
    "import os\n",
    "import scipy.io"
   ]
  },
  {
   "cell_type": "markdown",
   "metadata": {},
   "source": [
    "# visualization of TFrecord file"
   ]
  },
  {
   "cell_type": "code",
   "execution_count": 7,
   "metadata": {},
   "outputs": [],
   "source": [
    "filenames = [os.path.join('/home/olle/PycharmProjects/multimodal_learning/data/test', 'test.tfrecords')]\n",
    "\n",
    "# Create a queue that produces the filenames to read.\n",
    "filename_queue = tf.train.string_input_producer(filenames)"
   ]
  },
  {
   "cell_type": "code",
   "execution_count": 8,
   "metadata": {},
   "outputs": [
    {
     "name": "stdout",
     "output_type": "stream",
     "text": [
      "('record bytes::::: ', <tf.Tensor 'Reshape_1:0' shape=(32, 32, 3) dtype=uint8>)\n"
     ]
    }
   ],
   "source": [
    "class SVHNRecord(object):\n",
    "    pass\n",
    "\n",
    "result = SVHNRecord()\n",
    "\n",
    "# Dimensions of the images in the SVHN dataset.\n",
    "# See http://ufldl.stanford.edu/housenumbers/ for a description of the\n",
    "# input format.\n",
    "result.height = 32\n",
    "result.width = 32\n",
    "result.depth = 3\n",
    "\n",
    "reader = tf.TFRecordReader()\n",
    "result.key, value = reader.read(filename_queue)\n",
    "value = tf.parse_single_example(\n",
    "    value,\n",
    "    # Defaults are not specified since both keys are required.\n",
    "    features={\n",
    "        'image_raw': tf.FixedLenFeature(shape=[], dtype=tf.string),\n",
    "        'label': tf.FixedLenFeature(shape=[], dtype=tf.int64),\n",
    "        'age': tf.FixedLenFeature(shape=[], dtype=tf.int64),\n",
    "    })\n",
    "\n",
    "# Convert from a string to a vector of uint8 that is record_bytes long.\n",
    "record_bytes = tf.decode_raw(value['image_raw'], tf.uint8)\n",
    "# record_bytes.set_shape([32*32*3])\n",
    "record_bytes = tf.reshape(record_bytes, [32, 32, 3])\n",
    "print(\"record bytes::::: \", record_bytes)\n",
    "# Store our label to result.label and convert to int32\n",
    "result.label = tf.cast(value['label'], tf.int32)\n",
    "result.age = tf.cast(value['age'], tf.int32)\n",
    "result.uint8image = record_bytes"
   ]
  },
  {
   "cell_type": "code",
   "execution_count": 9,
   "metadata": {
    "collapsed": true
   },
   "outputs": [],
   "source": [
    "sess = tf.InteractiveSession()\n",
    "coord = tf.train.Coordinator()\n",
    "threads = tf.train.start_queue_runners(coord=coord)"
   ]
  },
  {
   "cell_type": "code",
   "execution_count": 17,
   "metadata": {},
   "outputs": [
    {
     "name": "stdout",
     "output_type": "stream",
     "text": [
      "[74]\n"
     ]
    },
    {
     "data": {
      "image/png": "[encoded data removed]",
      "text/plain": [
       "<matplotlib.figure.Figure at 0x7f166371a5d0>"
      ]
     },
     "metadata": {},
     "output_type": "display_data"
    }
   ],
   "source": [
    "image_val = sess.run([result.uint8image])[0]\n",
    "img = Image.fromarray(image_val, 'RGB')\n",
    "print(sess.run([result.age]))\n",
    "plt.imshow(img, interpolation='nearest')\n",
    "plt.show()"
   ]
  },
  {
   "cell_type": "markdown",
   "metadata": {
    "collapsed": true
   },
   "source": [
    "# visualization of .mat file image"
   ]
  },
  {
   "cell_type": "code",
   "execution_count": null,
   "metadata": {
    "collapsed": true
   },
   "outputs": [],
   "source": [
    "filename_mat = os.path.join('/home/olle/PycharmProjects/digits/models/AlexNet/data/test', 'test_32x32.mat')"
   ]
  },
  {
   "cell_type": "code",
   "execution_count": null,
   "metadata": {
    "collapsed": true
   },
   "outputs": [],
   "source": [
    "read_input = scipy.io.loadmat(filename_mat)"
   ]
  },
  {
   "cell_type": "code",
   "execution_count": null,
   "metadata": {},
   "outputs": [],
   "source": [
    "image_mat_val_1 = read_input['X'][:,:,:,0]\n",
    "image_mat_val_10 = read_input['X'][:,:,:,10]\n",
    "image_mat_val_20 = read_input['X'][:,:,:,20]\n",
    "image_mat_val_30 = read_input['X'][:,:,:,30]\n",
    "\n",
    "print(image_mat_val_1.shape)\n",
    "\n",
    "img = Image.fromarray(image_mat_val_1, 'RGB')\n",
    "\n",
    "plt.imshow(img, interpolation='nearest')\n",
    "plt.show()"
   ]
  },
  {
   "cell_type": "code",
   "execution_count": null,
   "metadata": {},
   "outputs": [],
   "source": [
    "f, axarr = plt.subplots(2,2)\n",
    "axarr[0,0].imshow(read_input['X'][:,:,:,0])\n",
    "axarr[0,1].imshow(read_input['X'][:,:,:,10])\n",
    "axarr[1,0].imshow(read_input['X'][:,:,:,20])\n",
    "axarr[1,1].imshow(read_input['X'][:,:,:,30])"
   ]
  },
  {
   "cell_type": "code",
   "execution_count": null,
   "metadata": {
    "collapsed": true
   },
   "outputs": [],
   "source": []
  },
  {
   "cell_type": "code",
   "execution_count": null,
   "metadata": {
    "collapsed": true
   },
   "outputs": [],
   "source": []
  }
 ],
 "metadata": {
  "kernelspec": {
   "display_name": "Python [conda env:tensorflow]",
   "language": "python",
   "name": "conda-env-tensorflow-py"
  },
  "language_info": {
   "codemirror_mode": {
    "name": "ipython",
    "version": 2
   },
   "file_extension": ".py",
   "mimetype": "text/x-python",
   "name": "python",
   "nbconvert_exporter": "python",
   "pygments_lexer": "ipython2",
   "version": "2.7.14"
  }
 },
 "nbformat": 4,
 "nbformat_minor": 2
}
