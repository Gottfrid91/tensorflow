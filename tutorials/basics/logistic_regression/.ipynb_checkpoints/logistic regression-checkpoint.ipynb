{
 "cells": [
  {
   "cell_type": "markdown",
   "metadata": {},
   "source": [
    "# Logistic regression using tensorflow - quick tutorial using the Machine learning code template"
   ]
  },
  {
   "cell_type": "code",
   "execution_count": 5,
   "metadata": {
    "collapsed": true
   },
   "outputs": [],
   "source": [
    "import tensorflow as tf\n",
    "import os\n",
    "import numpy as np"
   ]
  },
  {
   "cell_type": "markdown",
   "metadata": {},
   "source": [
    "# Below are the function for the supervised learning workflow"
   ]
  },
  {
   "cell_type": "code",
   "execution_count": 6,
   "metadata": {
    "collapsed": true
   },
   "outputs": [],
   "source": [
    "# same params and variables initialization as log reg.\n",
    "W = tf.Variable(tf.zeros([5, 1]), name=\"weights\")\n",
    "b = tf.Variable(0., name=\"bias\")"
   ]
  },
  {
   "cell_type": "code",
   "execution_count": 7,
   "metadata": {
    "collapsed": true
   },
   "outputs": [],
   "source": [
    "# former inference is now used for combining inputs\n",
    "def combine_inputs(X):\n",
    "    return tf.matmul(X, W) + b\n",
    "\n",
    "# new inferred value is the sigmoid applied to the former\n",
    "def inference(X):\n",
    "    return tf.sigmoid(combine_inputs(X))"
   ]
  },
  {
   "cell_type": "code",
   "execution_count": 8,
   "metadata": {
    "collapsed": true
   },
   "outputs": [],
   "source": [
    "def loss(X, Y):\n",
    "    return tf.reduce_mean(tf.nn.sigmoid_cross_entropy_with_logits(logits= combine_inputs(X), labels=Y))"
   ]
  },
  {
   "cell_type": "code",
   "execution_count": 10,
   "metadata": {
    "collapsed": true
   },
   "outputs": [],
   "source": [
    "def read_csv(batch_size, file_name, record_defaults):\n",
    "    filename_queue = tf.train.string_input_producer([os.path.join(os.getcwd(), file_name)])\n",
    "\n",
    "    reader = tf.TextLineReader(skip_header_lines=1)\n",
    "    key, value = reader.read(filename_queue)\n",
    "\n",
    "    # decode_csv will convert a Tensor from type string (the text line) in\n",
    "    # a tuple of tensor columns with the specified defaults, which also\n",
    "    # sets the data type for each column\n",
    "    decoded = tf.decode_csv(value, record_defaults=record_defaults)\n",
    "\n",
    "    # batch actually reads the file and loads \"batch_size\" rows in a single tensor\n",
    "    return tf.train.shuffle_batch(decoded,\n",
    "                                  batch_size=batch_size,\n",
    "                                  capacity=batch_size * 50,\n",
    "                                  min_after_dequeue=batch_size)"
   ]
  },
  {
   "cell_type": "code",
   "execution_count": 11,
   "metadata": {
    "collapsed": true
   },
   "outputs": [],
   "source": [
    "def inputs():\n",
    "    passenger_id, survived, pclass, name, sex, age, sibsp, parch, ticket, fare, cabin, embarked = \\\n",
    "        read_csv(100, \"train.csv\", [[0.0], [0.0], [0], [\"\"], [\"\"], [0.0], [0.0], [0.0], [\"\"], [0.0], [\"\"], [\"\"]])\n",
    "\n",
    "    # convert categorical data\n",
    "    is_first_class = tf.to_float(tf.equal(pclass, [1]))\n",
    "    is_second_class = tf.to_float(tf.equal(pclass, [2]))\n",
    "    is_third_class = tf.to_float(tf.equal(pclass, [3]))\n",
    "\n",
    "    gender = tf.to_float(tf.equal(sex, [\"female\"]))\n",
    "\n",
    "    # Finally we pack all the features in a single matrix;\n",
    "    # We then transpose to have a matrix with one example per row and one feature per column.\n",
    "    features = tf.transpose(tf.stack([is_first_class, is_second_class, is_third_class, gender, age]))\n",
    "    survived = tf.reshape(survived, [100, 1])\n",
    "\n",
    "    return features, survived\n"
   ]
  },
  {
   "cell_type": "code",
   "execution_count": 19,
   "metadata": {
    "collapsed": true
   },
   "outputs": [],
   "source": [
    "def train(total_loss):\n",
    "    learning_rate = 0.01\n",
    "    return tf.train.GradientDescentOptimizer(learning_rate).minimize(total_loss)"
   ]
  },
  {
   "cell_type": "code",
   "execution_count": 13,
   "metadata": {
    "collapsed": true
   },
   "outputs": [],
   "source": [
    "def evaluate(sess, X, Y):\n",
    "    predicted = tf.cast(inference(X) > 0.5, tf.float32)\n",
    "\n",
    "    print sess.run(tf.reduce_mean(tf.cast(tf.equal(predicted, Y), tf.float32)))"
   ]
  },
  {
   "cell_type": "markdown",
   "metadata": {},
   "source": [
    "# Last, the run function for the model"
   ]
  },
  {
   "cell_type": "code",
   "execution_count": 20,
   "metadata": {},
   "outputs": [
    {
     "name": "stdout",
     "output_type": "stream",
     "text": [
      "loss:  [0.6468803]\n",
      "loss:  [0.68095696]\n",
      "loss:  [0.76343435]\n",
      "loss:  [0.77327764]\n",
      "loss:  [0.6716818]\n",
      "loss:  [0.7581498]\n",
      "loss:  [0.66627204]\n",
      "loss:  [0.6855507]\n",
      "loss:  [0.67479444]\n",
      "loss:  [0.70050454]\n",
      "loss:  [0.65103865]\n",
      "loss:  [0.67365915]\n",
      "loss:  [0.6727474]\n",
      "loss:  [0.63868123]\n",
      "loss:  [0.7181519]\n",
      "loss:  [0.63994426]\n",
      "loss:  [0.64164895]\n",
      "loss:  [0.59814954]\n",
      "loss:  [0.64307886]\n",
      "loss:  [0.7747194]\n",
      "loss:  [0.6025498]\n",
      "loss:  [0.58160543]\n",
      "loss:  [0.63663167]\n",
      "loss:  [0.6257614]\n",
      "loss:  [0.6397402]\n",
      "loss:  [0.61464375]\n",
      "loss:  [0.6274092]\n",
      "loss:  [0.6410486]\n",
      "loss:  [0.63349056]\n",
      "loss:  [0.6698008]\n",
      "loss:  [0.5861319]\n",
      "loss:  [0.62052405]\n",
      "loss:  [0.63032115]\n",
      "loss:  [0.65274423]\n",
      "loss:  [0.57418996]\n",
      "loss:  [0.60614693]\n",
      "loss:  [0.6586709]\n",
      "loss:  [0.7279992]\n",
      "loss:  [0.5755184]\n",
      "loss:  [0.5894689]\n",
      "loss:  [0.6379256]\n",
      "loss:  [0.6021888]\n",
      "loss:  [0.6434579]\n",
      "loss:  [0.5937062]\n",
      "loss:  [0.5873648]\n",
      "loss:  [0.61078656]\n",
      "loss:  [0.6041691]\n",
      "loss:  [0.6214145]\n",
      "loss:  [0.59741575]\n",
      "loss:  [0.59969574]\n",
      "loss:  [0.6118614]\n",
      "loss:  [0.52424115]\n",
      "loss:  [0.5606403]\n",
      "loss:  [0.8140929]\n",
      "loss:  [0.7671291]\n",
      "loss:  [0.6245695]\n",
      "loss:  [0.5779516]\n",
      "loss:  [0.5294363]\n",
      "loss:  [0.6616067]\n",
      "loss:  [0.57220685]\n",
      "loss:  [0.611279]\n",
      "loss:  [0.6039319]\n",
      "loss:  [0.5610933]\n",
      "loss:  [0.537166]\n",
      "loss:  [0.5324784]\n",
      "loss:  [0.56912977]\n",
      "loss:  [0.7221503]\n",
      "loss:  [0.57774246]\n",
      "loss:  [0.55799764]\n",
      "loss:  [0.572776]\n",
      "loss:  [0.5716074]\n",
      "loss:  [0.53574836]\n",
      "loss:  [0.53964335]\n",
      "loss:  [0.6023627]\n",
      "loss:  [0.554436]\n",
      "loss:  [0.7402651]\n",
      "loss:  [0.6326249]\n",
      "loss:  [0.5399886]\n",
      "loss:  [0.5317748]\n",
      "loss:  [0.69650877]\n",
      "loss:  [0.62532556]\n",
      "loss:  [0.5177577]\n",
      "loss:  [0.54745734]\n",
      "loss:  [0.53209853]\n",
      "loss:  [0.55015194]\n",
      "loss:  [0.56260484]\n",
      "loss:  [0.5453921]\n",
      "loss:  [0.54000926]\n",
      "loss:  [0.5946886]\n",
      "loss:  [0.54409826]\n",
      "loss:  [0.56644636]\n",
      "loss:  [0.55283725]\n",
      "loss:  [0.5948679]\n",
      "loss:  [0.55401117]\n",
      "loss:  [0.5448477]\n",
      "loss:  [0.5163646]\n",
      "loss:  [0.50464904]\n",
      "loss:  [0.54649836]\n",
      "loss:  [0.56156313]\n",
      "loss:  [0.6565623]\n",
      "0.72\n"
     ]
    }
   ],
   "source": [
    "# Launch the graph in a session, setup boilerplate\n",
    "with tf.Session() as sess:\n",
    "\n",
    "    tf.initialize_all_variables().run()\n",
    "\n",
    "    X, Y = inputs()\n",
    "\n",
    "    total_loss = loss(X, Y)\n",
    "    train_op = train(total_loss)\n",
    "\n",
    "    coord = tf.train.Coordinator()\n",
    "    threads = tf.train.start_queue_runners(sess=sess, coord=coord)\n",
    "\n",
    "    # actual training loop\n",
    "    training_steps = 1000\n",
    "    for step in range(training_steps):\n",
    "        sess.run([train_op])\n",
    "        # for debugging and learning purposes, see how the loss gets decremented thru training steps\n",
    "        if step % 10 == 0:\n",
    "            print \"loss: \", sess.run([total_loss])\n",
    "\n",
    "    evaluate(sess, X, Y)\n",
    "\n",
    "    import time\n",
    "    time.sleep(5)\n",
    "\n",
    "    coord.request_stop()\n",
    "    coord.join(threads)\n",
    "    sess.close()"
   ]
  },
  {
   "cell_type": "code",
   "execution_count": null,
   "metadata": {},
   "outputs": [],
   "source": []
  }
 ],
 "metadata": {
  "kernelspec": {
   "display_name": "Python [conda env:tensorflow]",
   "language": "python",
   "name": "conda-env-tensorflow-py"
  },
  "language_info": {
   "codemirror_mode": {
    "name": "ipython",
    "version": 2
   },
   "file_extension": ".py",
   "mimetype": "text/x-python",
   "name": "python",
   "nbconvert_exporter": "python",
   "pygments_lexer": "ipython2",
   "version": "2.7.14"
  }
 },
 "nbformat": 4,
 "nbformat_minor": 2
}
