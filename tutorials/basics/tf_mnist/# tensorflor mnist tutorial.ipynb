{
 "cells": [
  {
   "cell_type": "markdown",
   "metadata": {},
   "source": [
    "# tensorflor mnist tutorial"
   ]
  },
  {
   "cell_type": "code",
   "execution_count": 7,
   "metadata": {
    "collapsed": true
   },
   "outputs": [],
   "source": [
    "from __future__ import absolute_import\n",
    "from __future__ import division\n",
    "from __future__ import print_function\n",
    "\n",
    "import numpy as np\n",
    "import tensorflow as tf\n",
    "\n",
    "tf.logging.set_verbosity(tf.logging.INFO)"
   ]
  },
  {
   "cell_type": "code",
   "execution_count": 8,
   "metadata": {
    "collapsed": true
   },
   "outputs": [],
   "source": [
    "def cnn_model_fn(features, labels, mode):\n",
    "    \"\"\"Model function for CNN.\"\"\"\n",
    "    # MNIST images are 28x28 pixels, and have one color channel\n",
    "    input_layer = tf.reshape(features[\"x\"], [-1, 28, 28, 1])\n",
    "\n",
    "    # Output Tensor Shape: [batch_size, 28, 28, 32]\n",
    "    conv1 = tf.layers.conv2d(\n",
    "      inputs=input_layer,\n",
    "      filters=32,\n",
    "      kernel_size=[5, 5],\n",
    "      padding=\"same\",\n",
    "      activation=tf.nn.relu)\n",
    "\n",
    "    # Output Tensor Shape: [batch_size, 14, 14, 32]\n",
    "    pool1 = tf.layers.max_pooling2d(inputs=conv1, pool_size=[2, 2], strides=2)\n",
    "\n",
    "    # Output Tensor Shape: [batch_size, 14, 14, 64]\n",
    "    conv2 = tf.layers.conv2d(\n",
    "      inputs=pool1,\n",
    "      filters=64,\n",
    "      kernel_size=[5, 5],\n",
    "      padding=\"same\",\n",
    "      activation=tf.nn.relu)\n",
    "\n",
    "    # Output Tensor Shape: [batch_size, 7, 7, 64]\n",
    "    pool2 = tf.layers.max_pooling2d(inputs=conv2, pool_size=[2, 2], strides=2)\n",
    "\n",
    "    # Output Tensor Shape: [batch_size, 7 * 7 * 64]\n",
    "    pool2_flat = tf.reshape(pool2, [-1, 7 * 7 * 64])\n",
    "\n",
    "    # Output Tensor Shape: [batch_size, 1024]\n",
    "    dense = tf.layers.dense(inputs=pool2_flat, units=1024, activation=tf.nn.relu)\n",
    "\n",
    "    # Add dropout operation; 0.6 probability that element will be kept\n",
    "    dropout = tf.layers.dropout(\n",
    "      inputs=dense, rate=0.4, training=mode == tf.estimator.ModeKeys.TRAIN)\n",
    "\n",
    "    logits = tf.layers.dense(inputs=dropout, units=10)\n",
    "\n",
    "    predictions = {\n",
    "      # Generate predictions (for PREDICT and EVAL mode)\n",
    "      \"classes\": tf.argmax(input=logits, axis=1),\n",
    "      # Add `softmax_tensor` to the graph. It is used for PREDICT and by the\n",
    "      # `logging_hook`.\n",
    "      \"probabilities\": tf.nn.softmax(logits, name=\"softmax_tensor\")\n",
    "    }\n",
    "    if mode == tf.estimator.ModeKeys.PREDICT:\n",
    "        return tf.estimator.EstimatorSpec(mode=mode, predictions=predictions)\n",
    "\n",
    "    # Calculate Loss (for both TRAIN and EVAL modes)\n",
    "    loss = tf.losses.sparse_softmax_cross_entropy(labels=labels, logits=logits)\n",
    "\n",
    "    # Configure the Training Op (for TRAIN mode)\n",
    "    if mode == tf.estimator.ModeKeys.TRAIN:\n",
    "        optimizer = tf.train.GradientDescentOptimizer(learning_rate=0.001)\n",
    "        train_op = optimizer.minimize(\n",
    "        loss=loss,\n",
    "        global_step=tf.train.get_global_step())\n",
    "        return tf.estimator.EstimatorSpec(mode=mode, loss=loss, train_op=train_op)\n",
    "\n",
    "    # Add evaluation metrics (for EVAL mode)\n",
    "    eval_metric_ops = {\n",
    "      \"accuracy\": tf.metrics.accuracy(\n",
    "          labels=labels, predictions=predictions[\"classes\"])}\n",
    "    return tf.estimator.EstimatorSpec(mode=mode, loss=loss, eval_metric_ops=eval_metric_ops)\n"
   ]
  },
  {
   "cell_type": "code",
   "execution_count": 9,
   "metadata": {
    "collapsed": true
   },
   "outputs": [],
   "source": [
    "def main(unused_argv):\n",
    "    # Load training and eval data\n",
    "    mnist = tf.contrib.learn.datasets.load_dataset(\"mnist\")\n",
    "    train_data = mnist.train.images  # Returns np.array\n",
    "    train_labels = np.asarray(mnist.train.labels, dtype=np.int32)\n",
    "    eval_data = mnist.test.images  # Returns np.array\n",
    "    eval_labels = np.asarray(mnist.test.labels, dtype=np.int32)\n",
    "\n",
    "    # Create the Estimator\n",
    "    mnist_classifier = tf.estimator.Estimator(\n",
    "      model_fn=cnn_model_fn, model_dir=\"./testMNIST\")\n",
    "\n",
    "    # Set up logging for predictions\n",
    "    # Log the values in the \"Softmax\" tensor with label \"probabilities\"\n",
    "    tensors_to_log = {\"probabilities\": \"softmax_tensor\"}\n",
    "    logging_hook = tf.train.LoggingTensorHook(\n",
    "      tensors=tensors_to_log, every_n_iter=1000)\n",
    "\n",
    "    # Train the model\n",
    "    train_input_fn = tf.estimator.inputs.numpy_input_fn(\n",
    "      x={\"x\": train_data},\n",
    "      y=train_labels,\n",
    "      batch_size=10,\n",
    "      num_epochs=None,\n",
    "      shuffle=True)\n",
    "    mnist_classifier.train(\n",
    "      input_fn=train_input_fn,\n",
    "      steps=2000,\n",
    "      hooks=[logging_hook])\n",
    "\n",
    "    # Evaluate the model and print results\n",
    "    eval_input_fn = tf.estimator.inputs.numpy_input_fn(\n",
    "      x={\"x\": eval_data},\n",
    "      y=eval_labels,\n",
    "      num_epochs=1,\n",
    "      shuffle=False)\n",
    "    eval_results = mnist_classifier.evaluate(input_fn=eval_input_fn)\n",
    "    print(eval_results)"
   ]
  },
  {
   "cell_type": "code",
   "execution_count": 10,
   "metadata": {},
   "outputs": [
    {
     "name": "stdout",
     "output_type": "stream",
     "text": [
      "Extracting MNIST-data/train-images-idx3-ubyte.gz\n",
      "Extracting MNIST-data/train-labels-idx1-ubyte.gz\n",
      "Extracting MNIST-data/t10k-images-idx3-ubyte.gz\n",
      "Extracting MNIST-data/t10k-labels-idx1-ubyte.gz\n",
      "INFO:tensorflow:Using default config.\n",
      "INFO:tensorflow:Using config: {'_save_checkpoints_secs': 600, '_session_config': None, '_keep_checkpoint_max': 5, '_task_type': 'worker', '_global_id_in_cluster': 0, '_is_chief': True, '_cluster_spec': <tensorflow.python.training.server_lib.ClusterSpec object at 0x7fca114d9c10>, '_evaluation_master': '', '_save_checkpoints_steps': None, '_keep_checkpoint_every_n_hours': 10000, '_service': None, '_num_ps_replicas': 0, '_tf_random_seed': None, '_master': '', '_num_worker_replicas': 1, '_task_id': 0, '_log_step_count_steps': 100, '_model_dir': './testMNIST', '_save_summary_steps': 100}\n",
      "INFO:tensorflow:Calling model_fn.\n",
      "INFO:tensorflow:Done calling model_fn.\n",
      "INFO:tensorflow:Create CheckpointSaverHook.\n",
      "INFO:tensorflow:Graph was finalized.\n",
      "INFO:tensorflow:Running local_init_op.\n",
      "INFO:tensorflow:Done running local_init_op.\n",
      "INFO:tensorflow:Saving checkpoints for 1 into ./testMNIST/model.ckpt.\n",
      "INFO:tensorflow:probabilities = [[0.10481344 0.09774052 0.10322697 0.10421714 0.11276334 0.0903065\n",
      "  0.09857566 0.10518581 0.08676746 0.09640315]\n",
      " [0.12116512 0.08606412 0.10318916 0.09639335 0.10157717 0.10290157\n",
      "  0.09862526 0.10035826 0.08880547 0.1009205 ]\n",
      " [0.11522885 0.09229681 0.11549618 0.10571537 0.1020088  0.0856569\n",
      "  0.09468764 0.10717819 0.08547893 0.09625227]\n",
      " [0.10351633 0.10147685 0.11769799 0.09743965 0.10218158 0.08915599\n",
      "  0.09962315 0.09138645 0.09766342 0.09985861]\n",
      " [0.09661119 0.10450832 0.10608153 0.08822354 0.10459295 0.09644073\n",
      "  0.09965837 0.09404724 0.10018211 0.10965403]\n",
      " [0.11561506 0.10543524 0.10637077 0.0903575  0.10762767 0.10126401\n",
      "  0.08413493 0.09470017 0.09438518 0.10010949]\n",
      " [0.12067057 0.10010497 0.11462616 0.09159622 0.10719592 0.08922737\n",
      "  0.09384034 0.09619683 0.09171861 0.09482293]\n",
      " [0.11957763 0.09730998 0.10421618 0.09299156 0.12062493 0.09002454\n",
      "  0.09463875 0.09516849 0.08372239 0.10172553]\n",
      " [0.11149459 0.08806805 0.10544949 0.10495468 0.10393724 0.09385972\n",
      "  0.0928214  0.10016246 0.09473827 0.10451413]\n",
      " [0.1153667  0.09778    0.10517868 0.10288117 0.10085027 0.09607083\n",
      "  0.09539081 0.1004018  0.08551055 0.10056917]]\n",
      "INFO:tensorflow:loss = 2.3301618, step = 1\n",
      "INFO:tensorflow:global_step/sec: 35.9915\n",
      "INFO:tensorflow:loss = 2.3461804, step = 101 (2.778 sec)\n",
      "INFO:tensorflow:global_step/sec: 34.9681\n",
      "INFO:tensorflow:loss = 2.2766192, step = 201 (2.860 sec)\n",
      "INFO:tensorflow:global_step/sec: 39.0885\n",
      "INFO:tensorflow:loss = 2.277346, step = 301 (2.558 sec)\n",
      "INFO:tensorflow:global_step/sec: 38.641\n",
      "INFO:tensorflow:loss = 2.2649333, step = 401 (2.588 sec)\n",
      "INFO:tensorflow:global_step/sec: 39.0079\n",
      "INFO:tensorflow:loss = 2.2452233, step = 501 (2.563 sec)\n",
      "INFO:tensorflow:global_step/sec: 35.3494\n",
      "INFO:tensorflow:loss = 2.2269151, step = 601 (2.829 sec)\n",
      "INFO:tensorflow:global_step/sec: 37.3163\n",
      "INFO:tensorflow:loss = 2.131801, step = 701 (2.683 sec)\n",
      "INFO:tensorflow:global_step/sec: 33.6917\n",
      "INFO:tensorflow:loss = 2.1486192, step = 801 (2.965 sec)\n",
      "INFO:tensorflow:global_step/sec: 34.8855\n",
      "INFO:tensorflow:loss = 2.0542953, step = 901 (2.866 sec)\n",
      "INFO:tensorflow:global_step/sec: 39.1521\n",
      "INFO:tensorflow:probabilities = [[0.11928198 0.0583204  0.08078216 0.08834769 0.11962571 0.06771509\n",
      "  0.10213883 0.12375864 0.11053774 0.12949176]\n",
      " [0.11909387 0.06808987 0.07764027 0.1059818  0.07632398 0.08689022\n",
      "  0.06255519 0.20398182 0.09161327 0.10782973]\n",
      " [0.09763665 0.0550103  0.09798742 0.16142055 0.10481698 0.08303399\n",
      "  0.09678303 0.11685218 0.0757468  0.11071205]\n",
      " [0.11186888 0.08829805 0.08389696 0.08335795 0.10993308 0.0801293\n",
      "  0.06436113 0.1456598  0.12316703 0.10932785]\n",
      " [0.12770697 0.07071845 0.10798952 0.09179656 0.14021155 0.05036874\n",
      "  0.14132375 0.07287969 0.09051068 0.10649409]\n",
      " [0.07918233 0.08292533 0.077492   0.11742406 0.12826923 0.07729668\n",
      "  0.07644873 0.10830042 0.09200317 0.16065806]\n",
      " [0.09269881 0.07842143 0.13298681 0.11399453 0.09817712 0.0982737\n",
      "  0.06852357 0.1268828  0.11235394 0.07768728]\n",
      " [0.07365546 0.07338459 0.08655716 0.11166806 0.10616323 0.09394542\n",
      "  0.17592022 0.08552099 0.10103308 0.09215179]\n",
      " [0.15560846 0.0601888  0.1427644  0.14406444 0.07240585 0.0769793\n",
      "  0.06679155 0.09124084 0.12329739 0.06665897]\n",
      " [0.08989926 0.12530555 0.06657442 0.09068266 0.10822809 0.07479813\n",
      "  0.04791233 0.1590778  0.10944533 0.12807643]] (27.247 sec)\n",
      "INFO:tensorflow:loss = 1.9648908, step = 1001 (2.557 sec)\n",
      "INFO:tensorflow:global_step/sec: 39.3774\n",
      "INFO:tensorflow:loss = 1.9816353, step = 1101 (2.537 sec)\n",
      "INFO:tensorflow:global_step/sec: 38.9301\n",
      "INFO:tensorflow:loss = 1.7268504, step = 1201 (2.569 sec)\n",
      "INFO:tensorflow:global_step/sec: 37.1603\n",
      "INFO:tensorflow:loss = 1.6879456, step = 1301 (2.691 sec)\n",
      "INFO:tensorflow:global_step/sec: 34.5477\n",
      "INFO:tensorflow:loss = 1.3145564, step = 1401 (2.895 sec)\n",
      "INFO:tensorflow:global_step/sec: 35.1946\n",
      "INFO:tensorflow:loss = 1.5574266, step = 1501 (2.842 sec)\n",
      "INFO:tensorflow:global_step/sec: 35.4864\n",
      "INFO:tensorflow:loss = 1.3382338, step = 1601 (2.817 sec)\n",
      "INFO:tensorflow:global_step/sec: 38.9559\n",
      "INFO:tensorflow:loss = 0.6917142, step = 1701 (2.567 sec)\n",
      "INFO:tensorflow:global_step/sec: 38.5384\n",
      "INFO:tensorflow:loss = 0.93266624, step = 1801 (2.595 sec)\n",
      "INFO:tensorflow:global_step/sec: 37.8494\n",
      "INFO:tensorflow:loss = 1.1990433, step = 1901 (2.642 sec)\n",
      "INFO:tensorflow:Saving checkpoints for 2000 into ./testMNIST/model.ckpt.\n",
      "INFO:tensorflow:Loss for final step: 0.5480395.\n",
      "INFO:tensorflow:Calling model_fn.\n",
      "INFO:tensorflow:Done calling model_fn.\n",
      "INFO:tensorflow:Starting evaluation at 2018-03-12-17:00:32\n",
      "INFO:tensorflow:Graph was finalized.\n",
      "INFO:tensorflow:Restoring parameters from ./testMNIST/model.ckpt-2000\n",
      "INFO:tensorflow:Running local_init_op.\n",
      "INFO:tensorflow:Done running local_init_op.\n",
      "INFO:tensorflow:Finished evaluation at 2018-03-12-17:00:38\n",
      "INFO:tensorflow:Saving dict for global step 2000: accuracy = 0.8521, global_step = 2000, loss = 0.6578215\n",
      "{'loss': 0.6578215, 'global_step': 2000, 'accuracy': 0.8521}\n"
     ]
    },
    {
     "ename": "SystemExit",
     "evalue": "",
     "output_type": "error",
     "traceback": [
      "An exception has occurred, use %tb to see the full traceback.\n",
      "\u001b[0;31mSystemExit\u001b[0m\n"
     ]
    },
    {
     "name": "stderr",
     "output_type": "stream",
     "text": [
      "/home/olle/anaconda3/envs/tensorflow/lib/python2.7/site-packages/IPython/core/interactiveshell.py:2890: UserWarning: To exit: use 'exit', 'quit', or Ctrl-D.\n",
      "  warn(\"To exit: use 'exit', 'quit', or Ctrl-D.\", stacklevel=1)\n"
     ]
    }
   ],
   "source": [
    "if __name__ == \"__main__\":\n",
    "    tf.app.run()"
   ]
  },
  {
   "cell_type": "code",
   "execution_count": 11,
   "metadata": {},
   "outputs": [
    {
     "ename": "SystemExit",
     "evalue": "",
     "output_type": "error",
     "traceback": [
      "\u001b[0;31m---------------------------------------------------------------------------\u001b[0m",
      "\u001b[0;31mSystemExit\u001b[0m                                Traceback (most recent call last)",
      "\u001b[0;32m<ipython-input-10-ce29dcffb130>\u001b[0m in \u001b[0;36m<module>\u001b[0;34m()\u001b[0m\n\u001b[1;32m      1\u001b[0m \u001b[0;32mif\u001b[0m \u001b[0m__name__\u001b[0m \u001b[0;34m==\u001b[0m \u001b[0;34m\"__main__\"\u001b[0m\u001b[0;34m:\u001b[0m\u001b[0;34m\u001b[0m\u001b[0m\n\u001b[0;32m----> 2\u001b[0;31m     \u001b[0mtf\u001b[0m\u001b[0;34m.\u001b[0m\u001b[0mapp\u001b[0m\u001b[0;34m.\u001b[0m\u001b[0mrun\u001b[0m\u001b[0;34m(\u001b[0m\u001b[0;34m)\u001b[0m\u001b[0;34m\u001b[0m\u001b[0m\n\u001b[0m",
      "\u001b[0;32m/home/olle/anaconda3/envs/tensorflow/lib/python2.7/site-packages/tensorflow/python/platform/app.pyc\u001b[0m in \u001b[0;36mrun\u001b[0;34m(main, argv)\u001b[0m\n\u001b[1;32m    124\u001b[0m   \u001b[0;31m# Call the main function, passing through any arguments\u001b[0m\u001b[0;34m\u001b[0m\u001b[0;34m\u001b[0m\u001b[0m\n\u001b[1;32m    125\u001b[0m   \u001b[0;31m# to the final program.\u001b[0m\u001b[0;34m\u001b[0m\u001b[0;34m\u001b[0m\u001b[0m\n\u001b[0;32m--> 126\u001b[0;31m   \u001b[0m_sys\u001b[0m\u001b[0;34m.\u001b[0m\u001b[0mexit\u001b[0m\u001b[0;34m(\u001b[0m\u001b[0mmain\u001b[0m\u001b[0;34m(\u001b[0m\u001b[0margv\u001b[0m\u001b[0;34m)\u001b[0m\u001b[0;34m)\u001b[0m\u001b[0;34m\u001b[0m\u001b[0m\n\u001b[0m\u001b[1;32m    127\u001b[0m \u001b[0;34m\u001b[0m\u001b[0m\n\u001b[1;32m    128\u001b[0m \u001b[0;34m\u001b[0m\u001b[0m\n",
      "\u001b[0;31mSystemExit\u001b[0m: "
     ]
    }
   ],
   "source": [
    "%tb"
   ]
  },
  {
   "cell_type": "code",
   "execution_count": null,
   "metadata": {
    "collapsed": true
   },
   "outputs": [],
   "source": []
  },
  {
   "cell_type": "code",
   "execution_count": null,
   "metadata": {
    "collapsed": true
   },
   "outputs": [],
   "source": []
  },
  {
   "cell_type": "code",
   "execution_count": null,
   "metadata": {
    "collapsed": true
   },
   "outputs": [],
   "source": []
  },
  {
   "cell_type": "code",
   "execution_count": null,
   "metadata": {
    "collapsed": true
   },
   "outputs": [],
   "source": []
  },
  {
   "cell_type": "code",
   "execution_count": null,
   "metadata": {
    "collapsed": true
   },
   "outputs": [],
   "source": []
  }
 ],
 "metadata": {
  "kernelspec": {
   "display_name": "Python [conda env:tensorflow]",
   "language": "python",
   "name": "conda-env-tensorflow-py"
  },
  "language_info": {
   "codemirror_mode": {
    "name": "ipython",
    "version": 2
   },
   "file_extension": ".py",
   "mimetype": "text/x-python",
   "name": "python",
   "nbconvert_exporter": "python",
   "pygments_lexer": "ipython2",
   "version": "2.7.14"
  }
 },
 "nbformat": 4,
 "nbformat_minor": 2
}
