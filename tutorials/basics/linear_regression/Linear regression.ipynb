{
 "cells": [
  {
   "cell_type": "markdown",
   "metadata": {},
   "source": [
    "# Linear regression using tensorflow - quick tutorial using the Machine learning code template"
   ]
  },
  {
   "cell_type": "code",
   "execution_count": 1,
   "metadata": {
    "collapsed": true
   },
   "outputs": [],
   "source": [
    "import tensorflow as tf\n",
    "import os\n",
    "import numpy as np"
   ]
  },
  {
   "cell_type": "markdown",
   "metadata": {},
   "source": [
    "# Below are the function for the supervised learning workflow"
   ]
  },
  {
   "cell_type": "code",
   "execution_count": 2,
   "metadata": {
    "collapsed": true
   },
   "outputs": [],
   "source": [
    "#initialize model parameters\n",
    "W = tf.Variable(tf.zeros([2,1]),name=\"weights\")\n",
    "b = tf.Variable(0.,name=\"bias\")"
   ]
  },
  {
   "cell_type": "code",
   "execution_count": 3,
   "metadata": {
    "collapsed": true
   },
   "outputs": [],
   "source": [
    "def inference(X):\n",
    "    return tf.matmul(X,W)+b"
   ]
  },
  {
   "cell_type": "code",
   "execution_count": 4,
   "metadata": {
    "collapsed": true
   },
   "outputs": [],
   "source": [
    "def loss(X,Y):\n",
    "    Y_predicted=inference(X)\n",
    "    return tf.reduce_sum(tf.squared_difference(Y,Y_predicted))"
   ]
  },
  {
   "cell_type": "code",
   "execution_count": 5,
   "metadata": {
    "collapsed": true
   },
   "outputs": [],
   "source": [
    "def inputs():\n",
    "    weight_age=[[84,46],[73,20],[65,52],[70,30],[76,57],[69,25],[63,28],[72,36]]\n",
    "    blood_fat_content = [354,190,405,263,451,302,288,385]\n",
    "    \n",
    "    return tf.to_float(weight_age),tf.to_float(blood_fat_content)"
   ]
  },
  {
   "cell_type": "code",
   "execution_count": 6,
   "metadata": {
    "collapsed": true
   },
   "outputs": [],
   "source": [
    "def train(total_loss):\n",
    "    learning_rate = 0.0000001\n",
    "    return\ttf.train.GradientDescentOptimizer(learning_rate).minimize(total_loss)"
   ]
  },
  {
   "cell_type": "code",
   "execution_count": 7,
   "metadata": {
    "collapsed": true
   },
   "outputs": [],
   "source": [
    "def evaluate(sess,X,Y):\n",
    "    print sess.run(inference([[80.,25.]]))#~303\n",
    "    print sess.run(inference([[65.,25.]]))#~256"
   ]
  },
  {
   "cell_type": "markdown",
   "metadata": {},
   "source": [
    "# Last, the run function for the model"
   ]
  },
  {
   "cell_type": "code",
   "execution_count": 10,
   "metadata": {},
   "outputs": [
    {
     "name": "stdout",
     "output_type": "stream",
     "text": [
      "INFO:tensorflow:Restoring parameters from my-model-100\n",
      "[[338.46683]]\n",
      "[[282.56186]]\n"
     ]
    }
   ],
   "source": [
    "#Create a saver.\n",
    "saver = tf.train.Saver()\n",
    "\n",
    "#Launch the graph in a session, setup boilerplate\n",
    "with tf.Session() as sess:\n",
    "    tf.global_variables_initializer().run()\n",
    "    \n",
    "    X, Y = inputs()\n",
    "    total_loss = loss(X,Y)\n",
    "    \n",
    "    train_op = train(total_loss)\n",
    "    coord = tf.train.Coordinator()\n",
    "    \n",
    "    threads = tf.train.start_queue_runners(sess=sess,coord=coord)\n",
    "    \n",
    "    initial_step = 0\n",
    "    \n",
    "    #verify if we don't have a checkpoint saved already\n",
    "    ckpt =tf.train.get_checkpoint_state(os.path.dirname('__file__'))\n",
    "    if ckpt and ckpt.model_checkpoint_path:\n",
    "        #Restores from checkpoint\n",
    "        saver.restore(sess, ckpt.model_checkpoint_path)\n",
    "        initial_step = int(ckpt.model_checkpoint_path.rsplit('-', 1)[1])\n",
    "    \n",
    "    # actual training loop\n",
    "    training_steps = 100\n",
    "    for step in range(initial_step, training_steps):\n",
    "        sess.run([train_op])\n",
    "\n",
    "        # for debugging and learning purposes, see how the loss gets decremented thru training steps\n",
    "        if step % 10 == 0:\n",
    "            print \"loss: \", sess.run([total_loss])\n",
    "            saver.save(sess,'./my-model',global_step=step)\n",
    "\n",
    "    evaluate(sess,X,Y)\n",
    "    \n",
    "    coord.request_stop()\n",
    "    coord.join(threads)\n",
    "    #save final model\n",
    "    saver.save(sess, './my-model', global_step=training_steps)\n",
    "    \n",
    "    sess.close()"
   ]
  }
 ],
 "metadata": {
  "kernelspec": {
   "display_name": "Python [conda env:tensorflow]",
   "language": "python",
   "name": "conda-env-tensorflow-py"
  },
  "language_info": {
   "codemirror_mode": {
    "name": "ipython",
    "version": 2
   },
   "file_extension": ".py",
   "mimetype": "text/x-python",
   "name": "python",
   "nbconvert_exporter": "python",
   "pygments_lexer": "ipython2",
   "version": "2.7.14"
  }
 },
 "nbformat": 4,
 "nbformat_minor": 2
}
