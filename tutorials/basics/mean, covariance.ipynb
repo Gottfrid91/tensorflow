{
 "cells": [
  {
   "cell_type": "markdown",
   "metadata": {},
   "source": [
    "# Deriving mean and covariance using tensorflow"
   ]
  },
  {
   "cell_type": "code",
   "execution_count": 149,
   "metadata": {
    "collapsed": true
   },
   "outputs": [],
   "source": [
    "import tensorflow as tf\n",
    "import numpy as np"
   ]
  },
  {
   "cell_type": "code",
   "execution_count": 150,
   "metadata": {
    "collapsed": true
   },
   "outputs": [],
   "source": [
    "#excplicitly creating a graph\n",
    "graph = tf.Graph()"
   ]
  },
  {
   "cell_type": "code",
   "execution_count": 151,
   "metadata": {},
   "outputs": [],
   "source": [
    "#defining our data flow graph\n",
    "with graph.as_default():     \n",
    "\n",
    "    with tf.name_scope(\"covariance\"):\n",
    "        \n",
    "        #seperate input layer\n",
    "        with tf.name_scope(\"input\"):\n",
    "            #create input placeholder\n",
    "            a=tf.placeholder(tf.float32, shape=(None,None), name=\"input_placeholder_a\")  \n",
    "            \n",
    "        with tf.name_scope(\"scaling\"):\n",
    "            scaled_a = tf.div(a, tf.subtract(tf.reduce_max(a),tf.reduce_min(a)),\n",
    "                       name= \"scaled_a\")\n",
    "\n",
    "        #calculate covariance\n",
    "        with tf.name_scope(\"covariance\"):\n",
    "            cov = tf.matmul(scaled_a,tf.matrix_transpose(scaled_a,name=\"transpose_a\"), name = \"covariance\")\n",
    "        \n",
    "        #calculate mean\n",
    "        with tf.name_scope(\"mean\"):\n",
    "            mean = tf.reduce_mean(a, name=\"mean\")\n",
    "            \n",
    "        with tf.name_scope(\"global_ops\"):\n",
    "            #Initialization Op\n",
    "            init=tf.initialize_all_variables()"
   ]
  },
  {
   "cell_type": "code",
   "execution_count": 152,
   "metadata": {},
   "outputs": [],
   "source": [
    "#run graph\n",
    "sess = tf.Session(graph=graph)\n",
    "writer = tf.summary.FileWriter('./statistics_graph', graph)\n",
    "#initialize our variables\n",
    "sess.run(init)"
   ]
  },
  {
   "cell_type": "code",
   "execution_count": 153,
   "metadata": {},
   "outputs": [],
   "source": [
    "def run_graph(input_tensor):\n",
    "    feed_dict={a:input_tensor}\n",
    "    avg, covariance =sess.run([mean,cov],feed_dict=feed_dict)\n",
    "    return {\"mean\": avg, \"covariance\":covariance}"
   ]
  },
  {
   "cell_type": "markdown",
   "metadata": {},
   "source": [
    "# Here one can pass a matrix of arbitrary dimension"
   ]
  },
  {
   "cell_type": "code",
   "execution_count": 154,
   "metadata": {},
   "outputs": [
    {
     "data": {
      "text/plain": [
       "{'covariance': array([[1.0625, 1.875 , 1.125 ],\n",
       "        [1.875 , 3.5625, 1.875 ],\n",
       "        [1.125 , 1.875 , 1.3125]], dtype=float32), 'mean': 3.0}"
      ]
     },
     "execution_count": 154,
     "metadata": {},
     "output_type": "execute_result"
    }
   ],
   "source": [
    "x = np.array([[2,2,3], [4,5,4],[1,2,4]], dtype = np.float32)\n",
    "run_graph(x)"
   ]
  },
  {
   "cell_type": "code",
   "execution_count": 155,
   "metadata": {},
   "outputs": [],
   "source": [
    "writer.close()\n",
    "sess.close()"
   ]
  }
 ],
 "metadata": {
  "kernelspec": {
   "display_name": "Python [conda env:tensorflow]",
   "language": "python",
   "name": "conda-env-tensorflow-py"
  },
  "language_info": {
   "codemirror_mode": {
    "name": "ipython",
    "version": 2
   },
   "file_extension": ".py",
   "mimetype": "text/x-python",
   "name": "python",
   "nbconvert_exporter": "python",
   "pygments_lexer": "ipython2",
   "version": "2.7.14"
  }
 },
 "nbformat": 4,
 "nbformat_minor": 2
}
