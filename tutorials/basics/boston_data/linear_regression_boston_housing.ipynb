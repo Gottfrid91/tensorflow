{
 "cells": [
  {
   "cell_type": "code",
   "execution_count": null,
   "metadata": {
    "collapsed": true
   },
   "outputs": [],
   "source": [
    "# This is the set up"
   ]
  },
  {
   "cell_type": "code",
   "execution_count": 1,
   "metadata": {
    "collapsed": true
   },
   "outputs": [],
   "source": [
    "# Import libraries necessary for this project\n",
    "import numpy as np\n",
    "import pandas as pd\n",
    "import tensorflow as tf"
   ]
  },
  {
   "cell_type": "code",
   "execution_count": 2,
   "metadata": {},
   "outputs": [],
   "source": [
    "# Load the Boston housing dataset\n",
    "data = pd.read_csv('train.csv')\n",
    "prices = data['medv'].values.reshape(333,1)\n",
    "features = data.drop('medv', axis = 1)\n"
   ]
  },
  {
   "cell_type": "code",
   "execution_count": 3,
   "metadata": {},
   "outputs": [],
   "source": [
    "number_of_features = features.shape[1]\n",
    "number_of_OBS = features.shape[0]"
   ]
  },
  {
   "cell_type": "code",
   "execution_count": 4,
   "metadata": {},
   "outputs": [],
   "source": [
    "#creating variables\n",
    "W = tf.Variable(tf.zeros([number_of_features,1]), name=\"weights\", dtype = tf.float32)\n",
    "b = tf.Variable(tf.zeros([number_of_OBS,1]), name = \"bias\", dtype = tf.float32)"
   ]
  },
  {
   "cell_type": "code",
   "execution_count": 5,
   "metadata": {},
   "outputs": [],
   "source": [
    "#creating placeholders for data\n",
    "X = tf.placeholder(tf.float32, shape=(None, 14))\n",
    "y = tf.placeholder(tf.float32, shape=(None, 1))"
   ]
  },
  {
   "cell_type": "code",
   "execution_count": 6,
   "metadata": {},
   "outputs": [],
   "source": [
    "#inference\n",
    "y_hat = tf.matmul(X,W) + b"
   ]
  },
  {
   "cell_type": "code",
   "execution_count": 7,
   "metadata": {},
   "outputs": [],
   "source": [
    "#loss\n",
    "total_loss = tf.losses.mean_squared_error(\n",
    "    labels = y,\n",
    "    predictions = y_hat)"
   ]
  },
  {
   "cell_type": "code",
   "execution_count": 40,
   "metadata": {},
   "outputs": [],
   "source": [
    "#train\n",
    "learning_rate = 0.00000001\n",
    "train = tf.train.GradientDescentOptimizer(learning_rate).minimize(total_loss)"
   ]
  },
  {
   "cell_type": "code",
   "execution_count": 41,
   "metadata": {
    "collapsed": true
   },
   "outputs": [],
   "source": [
    "#evaluations\n",
    "accuracy = tf.metrics.mean_squared_error(\n",
    "    labels = y,\n",
    "    predictions = y_hat)"
   ]
  },
  {
   "cell_type": "code",
   "execution_count": null,
   "metadata": {},
   "outputs": [],
   "source": [
    "\n"
   ]
  },
  {
   "cell_type": "code",
   "execution_count": 98,
   "metadata": {},
   "outputs": [
    {
     "name": "stdout",
     "output_type": "stream",
     "text": [
      "loss: 76.84976\n",
      "loss: 75.6647\n",
      "loss: 74.736115\n",
      "loss: 73.92388\n",
      "loss: 73.20326\n",
      "loss: 72.55804\n",
      "loss: 71.97532\n",
      "loss: 71.44499\n",
      "loss: 70.95889\n"
     ]
    }
   ],
   "source": [
    "with tf.Session() as sess:\n",
    "    tf.global_variables_initializer().run()\n",
    "    for i in range(1,100000):\n",
    "        _, weights, loss = sess.run([train, W, total_loss], feed_dict= {X: features, y: prices})\n",
    "        \n",
    "        if i%10000 == 0:\n",
    "            print \"loss:\",loss\n",
    "        \n",
    "    sess.close()"
   ]
  },
  {
   "cell_type": "code",
   "execution_count": 97,
   "metadata": {},
   "outputs": [
    {
     "data": {
      "text/plain": [
       "(array([[ 6.9555789e-03],\n",
       "        [-2.1620598e-03],\n",
       "        [ 1.3497575e-02],\n",
       "        [-1.8659625e-03],\n",
       "        [ 8.9099129e-05],\n",
       "        [ 7.2437215e-05],\n",
       "        [ 2.2706965e-03],\n",
       "        [ 2.8697606e-03],\n",
       "        [ 1.3873527e-03],\n",
       "        [-1.3956303e-03],\n",
       "        [-5.5425866e-03],\n",
       "        [ 2.6262768e-03],\n",
       "        [ 6.2243544e-02],\n",
       "        [-4.7070142e-03]], dtype=float32), 76.84992)"
      ]
     },
     "execution_count": 97,
     "metadata": {},
     "output_type": "execute_result"
    }
   ],
   "source": [
    "weights,loss"
   ]
  }
 ],
 "metadata": {
  "kernelspec": {
   "display_name": "Python [conda env:tensorflow]",
   "language": "python",
   "name": "conda-env-tensorflow-py"
  },
  "language_info": {
   "codemirror_mode": {
    "name": "ipython",
    "version": 2
   },
   "file_extension": ".py",
   "mimetype": "text/x-python",
   "name": "python",
   "nbconvert_exporter": "python",
   "pygments_lexer": "ipython2",
   "version": "2.7.14"
  }
 },
 "nbformat": 4,
 "nbformat_minor": 2
}
